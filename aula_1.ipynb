{
 "cells": [
  {
   "cell_type": "markdown",
   "metadata": {},
   "source": [
    "# Automação de Sistemas e Processos com Python\n",
    "\n",
    "### Desafio:\n",
    "\n",
    "Todos os dias, o nosso sistema atualiza as vendas do dia anterior.\n",
    "O seu trabalho diário, como analista, é enviar um e-mail para a diretoria, assim que começar a trabalhar, com o faturamento e a quantidade de produtos vendidos no dia anterior\n",
    "\n",
    "E-mail da diretoria: seugmail+diretoria@gmail.com<br>\n",
    "Local onde o sistema disponibiliza as vendas do dia anterior: https://drive.google.com/drive/folders/149xknr9JvrlEnhNWO49zPcw0PW5icxga?usp=sharing\n",
    "\n",
    "Para resolver isso, vamos usar o pyautogui, uma biblioteca de automação de comandos do mouse e do teclado"
   ]
  },
  {
   "cell_type": "code",
   "execution_count": 5,
   "metadata": {},
   "outputs": [
    {
     "ename": "NameError",
     "evalue": "name 'pd' is not defined",
     "output_type": "error",
     "traceback": [
      "\u001b[1;31m---------------------------------------------------------------------------\u001b[0m",
      "\u001b[1;31mNameError\u001b[0m                                 Traceback (most recent call last)",
      "\u001b[1;32mC:\\Users\\NATLIA~1.HAN\\AppData\\Local\\Temp/ipykernel_7204/400649680.py\u001b[0m in \u001b[0;36m<module>\u001b[1;34m\u001b[0m\n\u001b[0;32m     26\u001b[0m \u001b[1;33m\u001b[0m\u001b[0m\n\u001b[0;32m     27\u001b[0m \u001b[1;31m#Importa o arquivo xlsx\u001b[0m\u001b[1;33m\u001b[0m\u001b[1;33m\u001b[0m\u001b[0m\n\u001b[1;32m---> 28\u001b[1;33m \u001b[0mplanilha\u001b[0m \u001b[1;33m=\u001b[0m \u001b[0mpd\u001b[0m\u001b[1;33m.\u001b[0m\u001b[0mread_excel\u001b[0m\u001b[1;33m(\u001b[0m\u001b[1;34mr\"C:\\Users\\Natália.Haneiko\\Downloads\\Vendas - Dez.xlsx\"\u001b[0m\u001b[1;33m)\u001b[0m\u001b[1;33m\u001b[0m\u001b[1;33m\u001b[0m\u001b[0m\n\u001b[0m\u001b[0;32m     29\u001b[0m \u001b[1;33m\u001b[0m\u001b[0m\n\u001b[0;32m     30\u001b[0m \u001b[1;31m#Calcula os indicadores\u001b[0m\u001b[1;33m\u001b[0m\u001b[1;33m\u001b[0m\u001b[0m\n",
      "\u001b[1;31mNameError\u001b[0m: name 'pd' is not defined"
     ]
    }
   ],
   "source": [
    "#Importa as Bibliotecas Necessárias\n",
    "import pyautogui\n",
    "import pyperclip\n",
    "import time\n",
    "#import pandas as pd\n",
    "\n",
    "#Aviso de início\n",
    "pyautogui.alert(\"Vou começar a trabalhar, por favor, não clique em nada!\")\n",
    "pyautogui.PAUSE = 1\n",
    "#Abre explorer (entrar no sistema da empresa)\n",
    "pyautogui.hotkey(\"ctrl\",\"t\")\n",
    "\n",
    "#Coloca o link\n",
    "pyperclip.copy(\"https://drive.google.com/drive/folders/149xknr9JvrlEnhNWO49zPcw0PW5icxga?usp=sharing\")\n",
    "pyautogui.hotkey(\"ctrl\",\"v\")\n",
    "pyautogui.press(\"enter\")\n",
    "time.sleep(3)\n",
    "\n",
    "#Baixa o arquivo\n",
    "pyautogui.click(-1268,160, clicks=2)\n",
    "time.sleep(4)\n",
    "pyautogui.click(-1241,159)\n",
    "pyautogui.click(-204,64)\n",
    "pyautogui.click(-417,496)\n",
    "time.sleep(8)\n",
    "\n",
    "#Importa o arquivo xlsx\n",
    "planilha = pd.read_excel(r\"C:\\Users\\Natália.Haneiko\\Downloads\\Vendas - Dez.xlsx\")\n",
    "\n",
    "#Calcula os indicadores\n",
    "faturamento=planilha[\"Valor Final\"].sum()\n",
    "quantidade=planilha[\"Quantidade\"].sum()\n",
    "\n",
    "#Envia o e-mail\n",
    "pyautogui.click(-1314, -83)\n",
    "pyautogui.press(\"del\")\n",
    "pyperclip.copy(\"https://mail.yahoo.com/d/folders/1\")\n",
    "pyautogui.hotkey(\"ctrl\",\"v\")\n",
    "pyautogui.press(\"enter\")\n",
    "time.sleep(2)\n",
    "pyautogui.click(-1503,115)\n",
    "pyperclip.copy(\"diretoria@yahoo.com.br\")\n",
    "pyautogui.hotkey(\"ctrl\",\"v\")\n",
    "pyautogui.press(\"tab\")\n",
    "pyautogui.click(-1329,164)\n",
    "assunto=\"Dados do Relatório\"\n",
    "pyperclip.copy(assunto)\n",
    "pyautogui.hotkey(\"ctrl\",\"v\")\n",
    "pyautogui.press(\"tab\")\n",
    "pyautogui.write(f\"\"\"\n",
    "Boa noite senhores,\n",
    "\n",
    "Segue os dados das vendas da semana:\n",
    "Faturamento= R${faturamento:,.2f}\n",
    "Quantidade vendida = {quantidade:,} peças\n",
    "\n",
    "Atenciosamente,\n",
    "Nat\"\"\")\n",
    "pyautogui.hotkey(\"ctrl\",\"enter\")\n"
   ]
  },
  {
   "cell_type": "markdown",
   "metadata": {},
   "source": [
    "#### Use esse código para descobrir qual a posição de um item que queira clicar\n",
    "\n",
    "- Lembre-se: a posição na sua tela é diferente da posição na minha tela"
   ]
  },
  {
   "cell_type": "code",
   "execution_count": 52,
   "metadata": {},
   "outputs": [
    {
     "data": {
      "text/plain": [
       "Point(x=-1329, y=164)"
      ]
     },
     "execution_count": 52,
     "metadata": {},
     "output_type": "execute_result"
    }
   ],
   "source": [
    "time.sleep(5)\n",
    "pyautogui.position()"
   ]
  },
  {
   "cell_type": "code",
   "execution_count": null,
   "metadata": {},
   "outputs": [],
   "source": []
  }
 ],
 "metadata": {
  "kernelspec": {
   "display_name": "Python 3 (ipykernel)",
   "language": "python",
   "name": "python3"
  },
  "language_info": {
   "codemirror_mode": {
    "name": "ipython",
    "version": 3
   },
   "file_extension": ".py",
   "mimetype": "text/x-python",
   "name": "python",
   "nbconvert_exporter": "python",
   "pygments_lexer": "ipython3",
   "version": "3.9.7"
  }
 },
 "nbformat": 4,
 "nbformat_minor": 4
}
